{
 "cells": [
  {
   "cell_type": "markdown",
   "id": "0dc6016f",
   "metadata": {},
   "source": [
    "# Consider the code"
   ]
  },
  {
   "cell_type": "markdown",
   "id": "1f3feb4c",
   "metadata": {},
   "source": [
    "**Q1. What is the result?**"
   ]
  },
  {
   "cell_type": "code",
   "execution_count": 5,
   "id": "3e533a82",
   "metadata": {},
   "outputs": [
    {
     "name": "stdout",
     "output_type": "stream",
     "text": [
      "5.0\n"
     ]
    }
   ],
   "source": [
    "x=8\n",
    "y=10\n",
    "result=x//3*3/2+y%2**2\n",
    "print(result)\n"
   ]
  },
  {
   "cell_type": "markdown",
   "id": "4fcce524",
   "metadata": {},
   "source": [
    "#  explanation:-\n",
    "* x//3*3/2+y%2**2\n",
    "* x//3*3/2+y%4\n",
    "* 8//3*3/2+y%4\n",
    "* 2*3/2+y%4\n",
    "* 6/2+y%4\n",
    "* 3.0+10%4\n",
    "* 3.0+2\n",
    "* 5"
   ]
  },
  {
   "cell_type": "markdown",
   "id": "389a7960",
   "metadata": {},
   "source": [
    "**Q2. Consider the code**"
   ]
  },
  {
   "cell_type": "code",
   "execution_count": 7,
   "id": "0eedd88a",
   "metadata": {},
   "outputs": [
    {
     "name": "stdout",
     "output_type": "stream",
     "text": [
      "How old were at the time of joining?24\n",
      "How old are you today?50\n"
     ]
    }
   ],
   "source": [
    "start=input('How old were at the time of joining?')\n",
    "end=input('How old are you today?')"
   ]
  },
  {
   "cell_type": "markdown",
   "id": "0a53bd73",
   "metadata": {},
   "source": [
    "** Which of the following code is valid to print Congratulation messsage?**"
   ]
  },
  {
   "cell_type": "code",
   "execution_count": 11,
   "id": "c346f649",
   "metadata": {},
   "outputs": [
    {
     "name": "stdout",
     "output_type": "stream",
     "text": [
      "Congratulation on 26 Year of Service!\n"
     ]
    }
   ],
   "source": [
    "print('Congratulation on '+str(int(end)-int(start))+\" Year of Service!\")"
   ]
  },
  {
   "cell_type": "code",
   "execution_count": 1,
   "id": "73df445e",
   "metadata": {},
   "outputs": [],
   "source": [
    "# Explaination\n",
    "# To use operator for string type compulsory both arguments must be str type otherwise we will get error.\n",
    "\n",
    "# print('congratulations on '+ (int(end)+int(start))+'Year of Service!')\n",
    "# Type Error: must be str; not int\n",
    "\n",
    "# print('Congratulations on '+ int(end-start)+'Year of Service!')\n",
    "# Type Error:- unsupported operant type(s) for-:'str' and 'str'\n",
    "\n",
    "# print('Congratulations on'+ str(end_start)+'Year of Service!')\n",
    "# Type Error: unsu str Type Error: unsupported operant type(s) for-: 'str' and 'str'pported operant type\n"
   ]
  },
  {
   "cell_type": "markdown",
   "id": "912c4691",
   "metadata": {},
   "source": [
    " **Q4. Consider the code:**"
   ]
  },
  {
   "cell_type": "code",
   "execution_count": 3,
   "id": "5f2d1943",
   "metadata": {},
   "outputs": [],
   "source": [
    "x='ACROTE'\n",
    "y='APPLE'\n",
    "z='TOMATO'"
   ]
  },
  {
   "cell_type": "markdown",
   "id": "d5cac3e9",
   "metadata": {},
   "source": [
    "** Which of the following wont print 'CAT' to the console **"
   ]
  },
  {
   "cell_type": "code",
   "execution_count": 5,
   "id": "a816832e",
   "metadata": {},
   "outputs": [
    {
     "name": "stdout",
     "output_type": "stream",
     "text": [
      "CAT\n"
     ]
    }
   ],
   "source": [
    "print(x[1]+y[0]+z[0])"
   ]
  },
  {
   "cell_type": "code",
   "execution_count": 6,
   "id": "3e623800",
   "metadata": {},
   "outputs": [
    {
     "name": "stdout",
     "output_type": "stream",
     "text": [
      "CAT\n"
     ]
    }
   ],
   "source": [
    "print(x[-5]+y[-5]+z[-2])"
   ]
  },
  {
   "cell_type": "markdown",
   "id": "2c8e6d6f",
   "metadata": {},
   "source": [
    "**Q4. Consiter the follwing code**"
   ]
  },
  {
   "cell_type": "markdown",
   "id": "caaad751",
   "metadata": {},
   "source": [
    "** For which of the following condition true will be printed to the console? **"
   ]
  },
  {
   "cell_type": "code",
   "execution_count": 8,
   "id": "a3ec34bc",
   "metadata": {},
   "outputs": [
    {
     "name": "stdout",
     "output_type": "stream",
     "text": [
      "True\n"
     ]
    }
   ],
   "source": [
    "x='Durga'\n",
    "y='Durga'\n",
    "if x is y:         ## result=condition\n",
    "    print(\"True\")"
   ]
  },
  {
   "cell_type": "code",
   "execution_count": 14,
   "id": "796eb2d9",
   "metadata": {},
   "outputs": [
    {
     "data": {
      "text/plain": [
       "True"
      ]
     },
     "execution_count": 14,
     "metadata": {},
     "output_type": "execute_result"
    }
   ],
   "source": [
    "x is y"
   ]
  },
  {
   "cell_type": "code",
   "execution_count": 15,
   "id": "c2c2857e",
   "metadata": {},
   "outputs": [
    {
     "data": {
      "text/plain": [
       "True"
      ]
     },
     "execution_count": 15,
     "metadata": {},
     "output_type": "execute_result"
    }
   ],
   "source": [
    "x==y"
   ]
  },
  {
   "cell_type": "code",
   "execution_count": 16,
   "id": "9132f490",
   "metadata": {},
   "outputs": [
    {
     "data": {
      "text/plain": [
       "False"
      ]
     },
     "execution_count": 16,
     "metadata": {},
     "output_type": "execute_result"
    }
   ],
   "source": [
    "x<y"
   ]
  },
  {
   "cell_type": "code",
   "execution_count": 17,
   "id": "ddaa48e8",
   "metadata": {},
   "outputs": [
    {
     "data": {
      "text/plain": [
       "False"
      ]
     },
     "execution_count": 17,
     "metadata": {},
     "output_type": "execute_result"
    }
   ],
   "source": [
    "x!=y"
   ]
  },
  {
   "cell_type": "code",
   "execution_count": null,
   "id": "c9453ce7",
   "metadata": {},
   "outputs": [],
   "source": [
    "#Explaination\n",
    "#both x and y pointing to the same object\n",
    "#Hence x is y returns True Except that all remaining case False"
   ]
  },
  {
   "cell_type": "markdown",
   "id": "9e23a5e7",
   "metadata": {},
   "source": [
    "**Q5. Consider the following code segments**"
   ]
  },
  {
   "cell_type": "markdown",
   "id": "87fac233",
   "metadata": {},
   "source": [
    "** code segment 1,2,3 the result types of c1,c2,c3 are:"
   ]
  },
  {
   "cell_type": "code",
   "execution_count": 19,
   "id": "8ccf26e8",
   "metadata": {},
   "outputs": [],
   "source": [
    "# code segament-1\n",
    "a1='10'\n",
    "b1=3\n",
    "c1=a1*b1"
   ]
  },
  {
   "cell_type": "code",
   "execution_count": 20,
   "id": "d2d8bcbf",
   "metadata": {},
   "outputs": [
    {
     "data": {
      "text/plain": [
       "'101010'"
      ]
     },
     "execution_count": 20,
     "metadata": {},
     "output_type": "execute_result"
    }
   ],
   "source": [
    "c1"
   ]
  },
  {
   "cell_type": "code",
   "execution_count": 21,
   "id": "1c9ba4be",
   "metadata": {},
   "outputs": [
    {
     "data": {
      "text/plain": [
       "str"
      ]
     },
     "execution_count": 21,
     "metadata": {},
     "output_type": "execute_result"
    }
   ],
   "source": [
    "type(c1)"
   ]
  },
  {
   "cell_type": "code",
   "execution_count": 22,
   "id": "995ac400",
   "metadata": {},
   "outputs": [],
   "source": [
    "# Code sagment-2\n",
    "a2=10\n",
    "b2=3\n",
    "c2=a2/b2"
   ]
  },
  {
   "cell_type": "code",
   "execution_count": 23,
   "id": "dae82b9c",
   "metadata": {},
   "outputs": [
    {
     "data": {
      "text/plain": [
       "3.3333333333333335"
      ]
     },
     "execution_count": 23,
     "metadata": {},
     "output_type": "execute_result"
    }
   ],
   "source": [
    "c2"
   ]
  },
  {
   "cell_type": "code",
   "execution_count": 24,
   "id": "cd3d5a31",
   "metadata": {},
   "outputs": [
    {
     "data": {
      "text/plain": [
       "float"
      ]
     },
     "execution_count": 24,
     "metadata": {},
     "output_type": "execute_result"
    }
   ],
   "source": [
    "type(c2)"
   ]
  },
  {
   "cell_type": "code",
   "execution_count": 26,
   "id": "8d041f0d",
   "metadata": {},
   "outputs": [],
   "source": [
    "# Code segment-3\n",
    "a3=2.6\n",
    "b3=3\n",
    "c3=a3/b3"
   ]
  },
  {
   "cell_type": "code",
   "execution_count": 27,
   "id": "9f1da4de",
   "metadata": {},
   "outputs": [
    {
     "data": {
      "text/plain": [
       "0.8666666666666667"
      ]
     },
     "execution_count": 27,
     "metadata": {},
     "output_type": "execute_result"
    }
   ],
   "source": [
    "c3"
   ]
  },
  {
   "cell_type": "code",
   "execution_count": 28,
   "id": "046bf6c5",
   "metadata": {},
   "outputs": [
    {
     "data": {
      "text/plain": [
       "float"
      ]
     },
     "execution_count": 28,
     "metadata": {},
     "output_type": "execute_result"
    }
   ],
   "source": [
    "type(c3)"
   ]
  },
  {
   "cell_type": "markdown",
   "id": "3297c010",
   "metadata": {},
   "source": [
    "**Q6. In which of the following cases we will get same retult**"
   ]
  },
  {
   "cell_type": "code",
   "execution_count": 29,
   "id": "39779e49",
   "metadata": {},
   "outputs": [
    {
     "data": {
      "text/plain": [
       "3"
      ]
     },
     "execution_count": 29,
     "metadata": {},
     "output_type": "execute_result"
    }
   ],
   "source": [
    "13//4"
   ]
  },
  {
   "cell_type": "code",
   "execution_count": 30,
   "id": "183d2047",
   "metadata": {},
   "outputs": [
    {
     "data": {
      "text/plain": [
       "3.6666666666666665"
      ]
     },
     "execution_count": 30,
     "metadata": {},
     "output_type": "execute_result"
    }
   ],
   "source": [
    "11/3"
   ]
  },
  {
   "cell_type": "code",
   "execution_count": 31,
   "id": "76dd9359",
   "metadata": {},
   "outputs": [
    {
     "data": {
      "text/plain": [
       "3"
      ]
     },
     "execution_count": 31,
     "metadata": {},
     "output_type": "execute_result"
    }
   ],
   "source": [
    "3**1"
   ]
  },
  {
   "cell_type": "code",
   "execution_count": 32,
   "id": "0608ad58",
   "metadata": {},
   "outputs": [
    {
     "data": {
      "text/plain": [
       "3"
      ]
     },
     "execution_count": 32,
     "metadata": {},
     "output_type": "execute_result"
    }
   ],
   "source": [
    "23%5"
   ]
  },
  {
   "cell_type": "markdown",
   "id": "b81d8cbe",
   "metadata": {},
   "source": [
    "**Q7. Consider the following lists** "
   ]
  },
  {
   "cell_type": "code",
   "execution_count": 34,
   "id": "9df23d82",
   "metadata": {},
   "outputs": [
    {
     "name": "stdout",
     "output_type": "stream",
     "text": [
      "False\n",
      "True\n"
     ]
    }
   ],
   "source": [
    "n1=[10,20,30,40,50]\n",
    "n2=[10,20,30,40,50]\n",
    "print(n1 is n2)\n",
    "print(n1==n2)"
   ]
  },
  {
   "cell_type": "code",
   "execution_count": 35,
   "id": "3b6b2375",
   "metadata": {},
   "outputs": [],
   "source": [
    "# Explanation\n",
    "# 'is' operator is always meant for reference comparison and '=='operator always meant for content comparisons.\n",
    "# In the above example n1 and n2 are diffenrent object but with same content.Hence 'is' operator returns false and\n",
    "# '==' operator returns true"
   ]
  },
  {
   "cell_type": "markdown",
   "id": "1c1f52fd",
   "metadata": {},
   "source": [
    "**Q8. Consider the python code.**"
   ]
  },
  {
   "cell_type": "code",
   "execution_count": 37,
   "id": "4b2362ee",
   "metadata": {},
   "outputs": [],
   "source": [
    "a=1\n",
    "b=3\n",
    "c=5\n",
    "d=7"
   ]
  },
  {
   "cell_type": "markdown",
   "id": "3d5f83b4",
   "metadata": {},
   "source": [
    "** In which of the following cases the result value is 0 "
   ]
  },
  {
   "cell_type": "code",
   "execution_count": 39,
   "id": "d6f039de",
   "metadata": {},
   "outputs": [],
   "source": [
    "result1=a**d-1"
   ]
  },
  {
   "cell_type": "code",
   "execution_count": 40,
   "id": "492a8fdc",
   "metadata": {},
   "outputs": [],
   "source": [
    "result2=a%b-1"
   ]
  },
  {
   "cell_type": "code",
   "execution_count": 41,
   "id": "306d8a94",
   "metadata": {},
   "outputs": [
    {
     "data": {
      "text/plain": [
       "0"
      ]
     },
     "execution_count": 41,
     "metadata": {},
     "output_type": "execute_result"
    }
   ],
   "source": [
    "result1"
   ]
  },
  {
   "cell_type": "code",
   "execution_count": 42,
   "id": "bad3146a",
   "metadata": {},
   "outputs": [
    {
     "data": {
      "text/plain": [
       "0"
      ]
     },
     "execution_count": 42,
     "metadata": {},
     "output_type": "execute_result"
    }
   ],
   "source": [
    "result2"
   ]
  },
  {
   "cell_type": "markdown",
   "id": "8d4e02fc",
   "metadata": {},
   "source": [
    "**Q9 Consider the python code**"
   ]
  },
  {
   "cell_type": "code",
   "execution_count": 2,
   "id": "e4c6d0ff",
   "metadata": {},
   "outputs": [
    {
     "name": "stdout",
     "output_type": "stream",
     "text": [
      "['A', 'B', ' ', 'C', 'D', 'ED']\n"
     ]
    }
   ],
   "source": [
    "s='AB CD'\n",
    "list_1=list(s)\n",
    "list_1.append('ED')\n",
    "print(list_1)"
   ]
  },
  {
   "cell_type": "markdown",
   "id": "2d84790c",
   "metadata": {},
   "source": [
    "**list elements will be printed within square bracket. where we are converting strig to list, \n",
    "**each character will become element list including space also."
   ]
  },
  {
   "cell_type": "markdown",
   "id": "eb7f8165",
   "metadata": {},
   "source": [
    "**Q10. Cosider the python code** "
   ]
  },
  {
   "cell_type": "markdown",
   "id": "f62d49c5",
   "metadata": {},
   "source": [
    "** To print valid to the console,which condition we have to take for if statement"
   ]
  },
  {
   "cell_type": "code",
   "execution_count": 3,
   "id": "c32ee734",
   "metadata": {},
   "outputs": [
    {
     "name": "stdout",
     "output_type": "stream",
     "text": [
      "valid\n"
     ]
    }
   ],
   "source": [
    "a=5\n",
    "b=10\n",
    "c=2\n",
    "d=True\n",
    "x=a+b*c  #x=5+10*2=25\n",
    "y=a+b/d  #y=5+10/1=15\n",
    "\n",
    "if x>y:\n",
    "    print(\"valid\")\n",
    "else:\n",
    "    print(\"invalid\")"
   ]
  },
  {
   "cell_type": "code",
   "execution_count": 4,
   "id": "c92b91e8",
   "metadata": {},
   "outputs": [],
   "source": [
    "# Explanation \n",
    "# To print valid the condition should be true. when the conditon will be false then the print invalid sentax "
   ]
  },
  {
   "cell_type": "markdown",
   "id": "6a767802",
   "metadata": {},
   "source": [
    "**Q11. You are writing a python program to read two int value from the keyboard and print the sum**"
   ]
  },
  {
   "cell_type": "code",
   "execution_count": 11,
   "id": "befb86c4",
   "metadata": {},
   "outputs": [
    {
     "name": "stdout",
     "output_type": "stream",
     "text": [
      "ENTER FIRST NUMBER: 45\n",
      "ENTER SECOND NUMBER: 45\n",
      "sum of x and y= 90\n"
     ]
    }
   ],
   "source": [
    "x=input('ENTER FIRST NUMBER: ')\n",
    "y=input('ENTER SECOND NUMBER: ')\n",
    "sum_given=str(int(x)+int(y))\n",
    "print('sum of x and y= '+sum_given)"
   ]
  },
  {
   "cell_type": "code",
   "execution_count": 8,
   "id": "586510d7",
   "metadata": {},
   "outputs": [],
   "source": [
    "# Explanation\n",
    "# To use + operator for string types,compolsary both arguments must be str type otherwise we will get error.\n",
    "# as show in below"
   ]
  },
  {
   "cell_type": "code",
   "execution_count": 12,
   "id": "e1df912c",
   "metadata": {},
   "outputs": [
    {
     "name": "stdout",
     "output_type": "stream",
     "text": [
      "ENTER FIRST NUMBER: 45\n",
      "ENTER SECOND NUMBER: 15\n"
     ]
    },
    {
     "ename": "TypeError",
     "evalue": "can only concatenate str (not \"int\") to str",
     "output_type": "error",
     "traceback": [
      "\u001b[1;31m---------------------------------------------------------------------------\u001b[0m",
      "\u001b[1;31mTypeError\u001b[0m                                 Traceback (most recent call last)",
      "Input \u001b[1;32mIn [12]\u001b[0m, in \u001b[0;36m<cell line: 4>\u001b[1;34m()\u001b[0m\n\u001b[0;32m      2\u001b[0m y\u001b[38;5;241m=\u001b[39m\u001b[38;5;28minput\u001b[39m(\u001b[38;5;124m'\u001b[39m\u001b[38;5;124mENTER SECOND NUMBER: \u001b[39m\u001b[38;5;124m'\u001b[39m)\n\u001b[0;32m      3\u001b[0m sum_given\u001b[38;5;241m=\u001b[39m(\u001b[38;5;28mint\u001b[39m(x)\u001b[38;5;241m+\u001b[39m\u001b[38;5;28mint\u001b[39m(y))\n\u001b[1;32m----> 4\u001b[0m \u001b[38;5;28mprint\u001b[39m(\u001b[38;5;124;43m'\u001b[39;49m\u001b[38;5;124;43msum of x and y=\u001b[39;49m\u001b[38;5;124;43m'\u001b[39;49m\u001b[38;5;241;43m+\u001b[39;49m\u001b[43msum_given\u001b[49m)\n",
      "\u001b[1;31mTypeError\u001b[0m: can only concatenate str (not \"int\") to str"
     ]
    }
   ],
   "source": [
    "x=input('ENTER FIRST NUMBER: ')\n",
    "y=input('ENTER SECOND NUMBER: ')\n",
    "sum_given=(int(x)+int(y))\n",
    "print('sum of x and y='+sum_given)"
   ]
  },
  {
   "cell_type": "code",
   "execution_count": 13,
   "id": "9bdbf9f3",
   "metadata": {},
   "outputs": [
    {
     "name": "stdout",
     "output_type": "stream",
     "text": [
      "ENTER FIRST NUMBER: 86\n",
      "ENTER SECOND NUMBER: 96\n"
     ]
    },
    {
     "ename": "TypeError",
     "evalue": "can only concatenate str (not \"int\") to str",
     "output_type": "error",
     "traceback": [
      "\u001b[1;31m---------------------------------------------------------------------------\u001b[0m",
      "\u001b[1;31mTypeError\u001b[0m                                 Traceback (most recent call last)",
      "Input \u001b[1;32mIn [13]\u001b[0m, in \u001b[0;36m<cell line: 4>\u001b[1;34m()\u001b[0m\n\u001b[0;32m      2\u001b[0m y\u001b[38;5;241m=\u001b[39m\u001b[38;5;28minput\u001b[39m(\u001b[38;5;124m'\u001b[39m\u001b[38;5;124mENTER SECOND NUMBER: \u001b[39m\u001b[38;5;124m'\u001b[39m)\n\u001b[0;32m      3\u001b[0m sum_given\u001b[38;5;241m=\u001b[39m(\u001b[38;5;28mint\u001b[39m(x\u001b[38;5;241m+\u001b[39my))\n\u001b[1;32m----> 4\u001b[0m \u001b[38;5;28mprint\u001b[39m(\u001b[38;5;124;43m'\u001b[39;49m\u001b[38;5;124;43msum of x and y=\u001b[39;49m\u001b[38;5;124;43m'\u001b[39;49m\u001b[38;5;241;43m+\u001b[39;49m\u001b[43msum_given\u001b[49m)\n",
      "\u001b[1;31mTypeError\u001b[0m: can only concatenate str (not \"int\") to str"
     ]
    }
   ],
   "source": [
    "x=input('ENTER FIRST NUMBER: ')\n",
    "y=input('ENTER SECOND NUMBER: ')\n",
    "sum_given=(int(x+y))\n",
    "print('sum of x and y='+sum_given)"
   ]
  },
  {
   "cell_type": "code",
   "execution_count": 14,
   "id": "c177265c",
   "metadata": {},
   "outputs": [
    {
     "name": "stdout",
     "output_type": "stream",
     "text": [
      "ENTER FIRST NUMBER: 45\n",
      "ENTER SECOND NUMBER: 63\n",
      "sum of x and y=4563\n"
     ]
    }
   ],
   "source": [
    "x=input('ENTER FIRST NUMBER: ')\n",
    "y=input('ENTER SECOND NUMBER: ')\n",
    "sum_given=str(int(x+y))          # Not fillful our requirement\n",
    "print('sum of x and y='+sum_given)"
   ]
  },
  {
   "cell_type": "markdown",
   "id": "450abfc1",
   "metadata": {},
   "source": [
    "**Q12. Consider the expretion**"
   ]
  },
  {
   "cell_type": "code",
   "execution_count": 16,
   "id": "84d10e8d",
   "metadata": {},
   "outputs": [],
   "source": [
    "# result=a-b*c+d\n",
    "# which of the following are valid?\n",
    "# The above expression is equivalent to a-(b*c)+d\n",
    "# First b*c will be evaluted followed by substration and addition\n",
    "\n",
    "# Explanation \n",
    "# Multiplication having more precedence than addition and substration \n",
    "# addition abd substration having same precedence"
   ]
  },
  {
   "cell_type": "markdown",
   "id": "ffaee323",
   "metadata": {},
   "source": [
    "**Q13. Consider the following python code.**"
   ]
  },
  {
   "cell_type": "code",
   "execution_count": 17,
   "id": "5cdf1649",
   "metadata": {},
   "outputs": [],
   "source": [
    "weight=62.4\n",
    "zip_1='80098'\n",
    "value=+23E4"
   ]
  },
  {
   "cell_type": "markdown",
   "id": "4def7a68",
   "metadata": {},
   "source": [
    "** The type of weight,zip_1 and value variables respectively."
   ]
  },
  {
   "cell_type": "code",
   "execution_count": 18,
   "id": "447c682b",
   "metadata": {},
   "outputs": [
    {
     "data": {
      "text/plain": [
       "float"
      ]
     },
     "execution_count": 18,
     "metadata": {},
     "output_type": "execute_result"
    }
   ],
   "source": [
    "type(weight)"
   ]
  },
  {
   "cell_type": "code",
   "execution_count": 19,
   "id": "4dbed91c",
   "metadata": {},
   "outputs": [
    {
     "data": {
      "text/plain": [
       "str"
      ]
     },
     "execution_count": 19,
     "metadata": {},
     "output_type": "execute_result"
    }
   ],
   "source": [
    "type(zip_1)"
   ]
  },
  {
   "cell_type": "code",
   "execution_count": 20,
   "id": "b1d65754",
   "metadata": {},
   "outputs": [
    {
     "data": {
      "text/plain": [
       "float"
      ]
     },
     "execution_count": 20,
     "metadata": {},
     "output_type": "execute_result"
    }
   ],
   "source": [
    "type(value)"
   ]
  },
  {
   "cell_type": "markdown",
   "id": "570fab3a",
   "metadata": {},
   "source": [
    "**Q14. You are writing a python program.You are required to handle data types properly consider the code segment**"
   ]
  },
  {
   "cell_type": "code",
   "execution_count": 22,
   "id": "65049541",
   "metadata": {},
   "outputs": [],
   "source": [
    "a=10+20\n",
    "b='10'+'20'\n",
    "c='10'*3"
   ]
  },
  {
   "cell_type": "code",
   "execution_count": 23,
   "id": "44fc6e1b",
   "metadata": {},
   "outputs": [
    {
     "data": {
      "text/plain": [
       "30"
      ]
     },
     "execution_count": 23,
     "metadata": {},
     "output_type": "execute_result"
    }
   ],
   "source": [
    "a # type=int"
   ]
  },
  {
   "cell_type": "code",
   "execution_count": 25,
   "id": "65baa963",
   "metadata": {},
   "outputs": [
    {
     "data": {
      "text/plain": [
       "'1020'"
      ]
     },
     "execution_count": 25,
     "metadata": {},
     "output_type": "execute_result"
    }
   ],
   "source": [
    "b  #type=str"
   ]
  },
  {
   "cell_type": "code",
   "execution_count": 26,
   "id": "ae9a1c2b",
   "metadata": {},
   "outputs": [
    {
     "data": {
      "text/plain": [
       "'101010'"
      ]
     },
     "execution_count": 26,
     "metadata": {},
     "output_type": "execute_result"
    }
   ],
   "source": [
    "c   #type=str"
   ]
  },
  {
   "cell_type": "code",
   "execution_count": 27,
   "id": "7a9e13ed",
   "metadata": {},
   "outputs": [],
   "source": [
    "# Explanation\n",
    "# If we apply + operator between two int types the result is of int type.\n",
    "# a=10+20=30\n",
    "# Hence a is int type.\n",
    "# If we apply + operator between two str types then the result of the str is of str type.\n",
    "# b='10'+'20'=1020\n",
    "# Hence b is str type\n",
    "# c='10'*3='101010'\n",
    "# If we apply * operator for str and int type then it acts as string repetation operator.Hence the result is of str type. "
   ]
  },
  {
   "cell_type": "markdown",
   "id": "41ba3b80",
   "metadata": {},
   "source": [
    "**Q15. You have the following cade:**"
   ]
  },
  {
   "cell_type": "code",
   "execution_count": 29,
   "id": "60e8cc5b",
   "metadata": {},
   "outputs": [],
   "source": [
    "a=bool([False])\n",
    "b=bool(3)\n",
    "c=bool(\"\")\n",
    "d=bool(' ')"
   ]
  },
  {
   "cell_type": "markdown",
   "id": "6227b9ee",
   "metadata": {},
   "source": [
    "** Which of the variables will represent False:"
   ]
  },
  {
   "cell_type": "code",
   "execution_count": 30,
   "id": "b30184da",
   "metadata": {},
   "outputs": [
    {
     "data": {
      "text/plain": [
       "True"
      ]
     },
     "execution_count": 30,
     "metadata": {},
     "output_type": "execute_result"
    }
   ],
   "source": [
    "a"
   ]
  },
  {
   "cell_type": "code",
   "execution_count": 31,
   "id": "449635cd",
   "metadata": {},
   "outputs": [
    {
     "data": {
      "text/plain": [
       "True"
      ]
     },
     "execution_count": 31,
     "metadata": {},
     "output_type": "execute_result"
    }
   ],
   "source": [
    "b"
   ]
  },
  {
   "cell_type": "code",
   "execution_count": 32,
   "id": "973e3310",
   "metadata": {},
   "outputs": [
    {
     "data": {
      "text/plain": [
       "False"
      ]
     },
     "execution_count": 32,
     "metadata": {},
     "output_type": "execute_result"
    }
   ],
   "source": [
    "c"
   ]
  },
  {
   "cell_type": "code",
   "execution_count": 33,
   "id": "1b64a335",
   "metadata": {},
   "outputs": [
    {
     "data": {
      "text/plain": [
       "True"
      ]
     },
     "execution_count": 33,
     "metadata": {},
     "output_type": "execute_result"
    }
   ],
   "source": [
    "d"
   ]
  },
  {
   "cell_type": "code",
   "execution_count": 34,
   "id": "ca8ac9d5",
   "metadata": {},
   "outputs": [],
   "source": [
    "# Explanation \n",
    "# For empty list,empty set,empty dict and range(0) arrguments bool() function returns False"
   ]
  },
  {
   "cell_type": "code",
   "execution_count": 1,
   "id": "2e8824cb",
   "metadata": {},
   "outputs": [],
   "source": [
    "# Q.16 Consider the following expression\n",
    "#result-(2*(3+4)**2-(3**3)*3)\n",
    "#What is result value?"
   ]
  },
  {
   "cell_type": "code",
   "execution_count": 2,
   "id": "d524d370",
   "metadata": {},
   "outputs": [
    {
     "data": {
      "text/plain": [
       "17"
      ]
     },
     "execution_count": 2,
     "metadata": {},
     "output_type": "execute_result"
    }
   ],
   "source": [
    "2*(3+4)**2-(3**3)*3"
   ]
  },
  {
   "cell_type": "code",
   "execution_count": null,
   "id": "5c159534",
   "metadata": {},
   "outputs": [],
   "source": [
    "Explanation\n",
    "\n",
    "Python Virtual Machine will give the precedence in the following order\n",
    "1. Parenthesis\n",
    "2. Exponent\n",
    "3. Multiplication, Division, Modulo,Floor Division\n",
    "4. Addition, Subtraction\n",
    "etc\n",
    "result=(2*(3+4)**2-(3**3)*3)=(2*(7)**2-(27)*3)=2*49-27*3=98-81=17"
   ]
  },
  {
   "cell_type": "code",
   "execution_count": null,
   "id": "43185244",
   "metadata": {},
   "outputs": [],
   "source": [
    "Q.17 Consider the code\n",
    "a=2\n",
    "a += 1\n",
    "#Line-1\n",
    "To make a value as 9,which expression required to place at Line-1"
   ]
  },
  {
   "cell_type": "code",
   "execution_count": 25,
   "id": "40f3a924",
   "metadata": {},
   "outputs": [],
   "source": [
    "a=2\n",
    "a+=1\n",
    "a**=2"
   ]
  },
  {
   "cell_type": "code",
   "execution_count": 26,
   "id": "60e3078a",
   "metadata": {},
   "outputs": [
    {
     "data": {
      "text/plain": [
       "9"
      ]
     },
     "execution_count": 26,
     "metadata": {},
     "output_type": "execute_result"
    }
   ],
   "source": [
    "a"
   ]
  },
  {
   "cell_type": "code",
   "execution_count": null,
   "id": "45b5ace6",
   "metadata": {},
   "outputs": [],
   "source": [
    "Explanation\n",
    "\n",
    "a*=2--->6\n",
    "a**-2->9\n",
    "a+=2->5\n",
    "a-=2-->1"
   ]
  },
  {
   "cell_type": "code",
   "execution_count": null,
   "id": "0f654ec1",
   "metadata": {},
   "outputs": [],
   "source": [
    "Q18.\n",
    "\n",
    "a=bool(0)\n",
    "b=bool(3)\n",
    "c=bool(0.5)\n",
    "d=bool (0.0)\n",
    "Which variables represent True?"
   ]
  },
  {
   "cell_type": "code",
   "execution_count": 27,
   "id": "c5c1f9e9",
   "metadata": {},
   "outputs": [
    {
     "data": {
      "text/plain": [
       "True"
      ]
     },
     "execution_count": 27,
     "metadata": {},
     "output_type": "execute_result"
    }
   ],
   "source": [
    "bool(3)"
   ]
  },
  {
   "cell_type": "code",
   "execution_count": 28,
   "id": "d8045ee4",
   "metadata": {},
   "outputs": [
    {
     "data": {
      "text/plain": [
       "True"
      ]
     },
     "execution_count": 28,
     "metadata": {},
     "output_type": "execute_result"
    }
   ],
   "source": [
    "bool(0.5)"
   ]
  },
  {
   "cell_type": "code",
   "execution_count": null,
   "id": "26959dbb",
   "metadata": {},
   "outputs": [],
   "source": [
    "Explanation\n",
    "\n",
    "In the case of integral values 0 treated as False and non-zero treated as True.\n",
    "In the case of float values 0.0 treated as False and all other values (non-zero values) treated as True."
   ]
  },
  {
   "cell_type": "code",
   "execution_count": null,
   "id": "648706c4",
   "metadata": {},
   "outputs": [],
   "source": [
    "Q19.\n",
    "\n",
    "Consider the code:\n",
    "a = 21\n",
    "b = 6\n",
    "print(a/b)\n",
    "print(a//b)\n",
    "print(a%b)\n",
    "What is the result?"
   ]
  },
  {
   "cell_type": "code",
   "execution_count": 29,
   "id": "7c0b7adf",
   "metadata": {},
   "outputs": [
    {
     "name": "stdout",
     "output_type": "stream",
     "text": [
      "3.5\n",
      "3\n",
      "3\n"
     ]
    }
   ],
   "source": [
    "a = 21\n",
    "b = 6\n",
    "print(a/b)\n",
    "print(a//b)\n",
    "print(a%b)"
   ]
  },
  {
   "cell_type": "code",
   "execution_count": null,
   "id": "cf95d263",
   "metadata": {},
   "outputs": [],
   "source": [
    "Explanation\n",
    "\n",
    "division operator in python always meant for floating point arithmetic. \n",
    "Hence a/b returns 3.5 But floor division(/) operator can perform both integral and floating point arithmetic.\n",
    "If the arguments are int type then the result is int type and if the arguments are float type then the result is float type.\n",
    "Hence a//b returns 3. a%b returns the remainder which is 3."
   ]
  },
  {
   "cell_type": "markdown",
   "id": "074e7962",
   "metadata": {},
   "source": [
    "Q20.\n",
    "You are developing a python application for your company.\n",
    "A list named employees contains 500 employee names, the last 3 being company management.\n",
    "Which of the following represents only management employees.\n",
    "* a) employees[-3:]\n",
    "* b) employees[497:]\n",
    "* c) All of the above\n",
    "\n",
    "Answer-c"
   ]
  },
  {
   "cell_type": "code",
   "execution_count": null,
   "id": "08902049",
   "metadata": {},
   "outputs": [],
   "source": [
    "Explanation\n",
    "list[begin:end] returns list of elements from begin index to end-1 index default value\n",
    "for begin is: 0"
   ]
  },
  {
   "cell_type": "code",
   "execution_count": null,
   "id": "2619380f",
   "metadata": {},
   "outputs": [],
   "source": [
    "Q21.\n",
    "subjects=['java','python','sap]\n",
    "more subjects=['java','python','sap'] \n",
    "extra_subjects=more_subjects.\n",
    "In which cases True will be printed to the console?\n",
    "          "
   ]
  },
  {
   "cell_type": "code",
   "execution_count": 32,
   "id": "5b74325c",
   "metadata": {},
   "outputs": [],
   "source": [
    "subjects=['java','python','sap']\n",
    "more_subjects=['java','python','sap'] \n",
    "extra_subjects=more_subjects"
   ]
  },
  {
   "cell_type": "code",
   "execution_count": 33,
   "id": "9ca98b71",
   "metadata": {},
   "outputs": [
    {
     "data": {
      "text/plain": [
       "True"
      ]
     },
     "execution_count": 33,
     "metadata": {},
     "output_type": "execute_result"
    }
   ],
   "source": [
    "subjects == extra_subjects"
   ]
  },
  {
   "cell_type": "code",
   "execution_count": 34,
   "id": "5fdd402a",
   "metadata": {},
   "outputs": [
    {
     "data": {
      "text/plain": [
       "True"
      ]
     },
     "execution_count": 34,
     "metadata": {},
     "output_type": "execute_result"
    }
   ],
   "source": [
    "extra_subjects is more_subjects"
   ]
  },
  {
   "cell_type": "code",
   "execution_count": 35,
   "id": "9dafd3f9",
   "metadata": {},
   "outputs": [
    {
     "data": {
      "text/plain": [
       "True"
      ]
     },
     "execution_count": 35,
     "metadata": {},
     "output_type": "execute_result"
    }
   ],
   "source": [
    "subjects == more_subjects"
   ]
  },
  {
   "cell_type": "code",
   "execution_count": null,
   "id": "d8ee04e4",
   "metadata": {},
   "outputs": [],
   "source": [
    "Explanation\n",
    "We can use 'is' operator for reference comparison where as '==' operator for content comparison.\n",
    "\n",
    "print(extra_subjects is more subjects) #True\n",
    "print(subjects is more subjects) #False \n",
    "print(subjects is extra_subjects)#False\n",
    "print(subjects==extra_subjects)#True"
   ]
  },
  {
   "cell_type": "code",
   "execution_count": null,
   "id": "61a547e8",
   "metadata": {},
   "outputs": [],
   "source": [
    "Q22. \n",
    "You are developing a python application for your company.\n",
    "A list named employees contains 500 employee names.\n",
    "In which cases we will get IndexError while accessing employee data?\n",
    "\n",
    "employees[0:501]\n",
    "employees[1:1000]\n",
    "employees[-10:10]\n",
    "None of the above (Correct)\n",
    "\n",
    "Explanation\n",
    "\n",
    "Slice Operator never raises IndexError"
   ]
  },
  {
   "cell_type": "code",
   "execution_count": null,
   "id": "b141f1c9",
   "metadata": {},
   "outputs": [],
   "source": [
    "Q23.\n",
    "Consider the list:\n",
    "numbers=[10,20,30,40,50]\n",
    "alphabets=['a','b','c','d','e']\n",
    "print( numbers is alphabets)\n",
    "print( numbers == alphabets)\n",
    "numbers=alphabets\n",
    "print( numbers is alphabets)\n",
    "print( numbers==alphabets)\n",
    "What is the result?"
   ]
  },
  {
   "cell_type": "code",
   "execution_count": 42,
   "id": "2887c161",
   "metadata": {},
   "outputs": [],
   "source": [
    "numbers=[10,20,30,40,50]\n",
    "alphabets=['a','b','c','d','e']"
   ]
  },
  {
   "cell_type": "code",
   "execution_count": 43,
   "id": "d914a60f",
   "metadata": {},
   "outputs": [
    {
     "data": {
      "text/plain": [
       "False"
      ]
     },
     "execution_count": 43,
     "metadata": {},
     "output_type": "execute_result"
    }
   ],
   "source": [
    "numbers == alphabets"
   ]
  },
  {
   "cell_type": "code",
   "execution_count": 44,
   "id": "3168fa91",
   "metadata": {},
   "outputs": [
    {
     "data": {
      "text/plain": [
       "False"
      ]
     },
     "execution_count": 44,
     "metadata": {},
     "output_type": "execute_result"
    }
   ],
   "source": [
    "numbers is alphabets"
   ]
  },
  {
   "cell_type": "code",
   "execution_count": 45,
   "id": "feead81f",
   "metadata": {},
   "outputs": [],
   "source": [
    "numbers=[10,20,30,40,50]\n",
    "alphabets=['a','b','c','d','e']\n",
    "numbers=alphabets"
   ]
  },
  {
   "cell_type": "code",
   "execution_count": 46,
   "id": "ce88a995",
   "metadata": {},
   "outputs": [
    {
     "data": {
      "text/plain": [
       "True"
      ]
     },
     "execution_count": 46,
     "metadata": {},
     "output_type": "execute_result"
    }
   ],
   "source": [
    "numbers == alphabets"
   ]
  },
  {
   "cell_type": "code",
   "execution_count": 47,
   "id": "9f16b6b1",
   "metadata": {},
   "outputs": [
    {
     "data": {
      "text/plain": [
       "True"
      ]
     },
     "execution_count": 47,
     "metadata": {},
     "output_type": "execute_result"
    }
   ],
   "source": [
    "numbers is alphabets"
   ]
  },
  {
   "cell_type": "code",
   "execution_count": null,
   "id": "7c5841e1",
   "metadata": {},
   "outputs": [],
   "source": [
    "Explanation\n",
    "\n",
    "'is' operator is always meant for reference comparison and == operator always meant for content comparison."
   ]
  },
  {
   "cell_type": "code",
   "execution_count": null,
   "id": "7b123c02",
   "metadata": {},
   "outputs": [],
   "source": [
    "Q24.\n",
    "Consider the following python code:\n",
    "age=0\n",
    "minor=False\n",
    "name='Durga'\n",
    "The types of age,minor ard name variables respectively:"
   ]
  },
  {
   "cell_type": "code",
   "execution_count": 48,
   "id": "8d1edd16",
   "metadata": {},
   "outputs": [],
   "source": [
    "age=0\n",
    "minor=False\n",
    "name='Durga'"
   ]
  },
  {
   "cell_type": "code",
   "execution_count": 49,
   "id": "e789c24f",
   "metadata": {},
   "outputs": [
    {
     "data": {
      "text/plain": [
       "int"
      ]
     },
     "execution_count": 49,
     "metadata": {},
     "output_type": "execute_result"
    }
   ],
   "source": [
    "type(age)"
   ]
  },
  {
   "cell_type": "code",
   "execution_count": 50,
   "id": "199d599c",
   "metadata": {},
   "outputs": [
    {
     "data": {
      "text/plain": [
       "bool"
      ]
     },
     "execution_count": 50,
     "metadata": {},
     "output_type": "execute_result"
    }
   ],
   "source": [
    "type(minor)"
   ]
  },
  {
   "cell_type": "code",
   "execution_count": 51,
   "id": "471db96d",
   "metadata": {},
   "outputs": [
    {
     "data": {
      "text/plain": [
       "str"
      ]
     },
     "execution_count": 51,
     "metadata": {},
     "output_type": "execute_result"
    }
   ],
   "source": [
    "type(name)"
   ]
  },
  {
   "cell_type": "code",
   "execution_count": null,
   "id": "7c7ddf3b",
   "metadata": {},
   "outputs": [],
   "source": [
    "Q25.\n",
    "Which of the following expression will generate max value?\n",
    "8//3*4\n",
    "8%3*4\n",
    "8/3*4  # currect\n",
    "8-3*4"
   ]
  },
  {
   "cell_type": "code",
   "execution_count": 52,
   "id": "43431660",
   "metadata": {},
   "outputs": [
    {
     "data": {
      "text/plain": [
       "8"
      ]
     },
     "execution_count": 52,
     "metadata": {},
     "output_type": "execute_result"
    }
   ],
   "source": [
    "8//3*4"
   ]
  },
  {
   "cell_type": "code",
   "execution_count": 53,
   "id": "92e0554a",
   "metadata": {},
   "outputs": [
    {
     "data": {
      "text/plain": [
       "8"
      ]
     },
     "execution_count": 53,
     "metadata": {},
     "output_type": "execute_result"
    }
   ],
   "source": [
    "8%3*4"
   ]
  },
  {
   "cell_type": "code",
   "execution_count": 54,
   "id": "98df9441",
   "metadata": {},
   "outputs": [
    {
     "data": {
      "text/plain": [
       "10.666666666666666"
      ]
     },
     "execution_count": 54,
     "metadata": {},
     "output_type": "execute_result"
    }
   ],
   "source": [
    "8/3*4   # Maximum value"
   ]
  },
  {
   "cell_type": "code",
   "execution_count": 55,
   "id": "67e63ea7",
   "metadata": {},
   "outputs": [
    {
     "data": {
      "text/plain": [
       "-4"
      ]
     },
     "execution_count": 55,
     "metadata": {},
     "output_type": "execute_result"
    }
   ],
   "source": [
    "8-3*4"
   ]
  },
  {
   "cell_type": "code",
   "execution_count": null,
   "id": "7e388284",
   "metadata": {},
   "outputs": [],
   "source": [
    "Q26.\n",
    "Consider the code:\n",
    "s=\"Python is easy\"\n",
    "s1=s[6:-4]\n",
    "# Line_1\n",
    "print(len(s2))\n",
    "\n",
    "To print 2 as output, which code we have to insert at Line_1"
   ]
  },
  {
   "cell_type": "code",
   "execution_count": 56,
   "id": "3d9922ab",
   "metadata": {},
   "outputs": [
    {
     "name": "stdout",
     "output_type": "stream",
     "text": [
      "2\n"
     ]
    }
   ],
   "source": [
    "s=\"Python is easy\"\n",
    "s1=s[6:-4]\n",
    "s2=s1.strip()\n",
    "print(len(s2))"
   ]
  },
  {
   "cell_type": "code",
   "execution_count": null,
   "id": "67e0d24d",
   "metadata": {},
   "outputs": [],
   "source": [
    "Explanation\n",
    "\n",
    "strip()==>It will remove spaces present at left and right sides of the string\n",
    "lstrip()==>It will remove spaces present at only left side of the string \n",
    "rstrip()==>It will remove spaces present at only right side of the string \n",
    "There is no method like Irstrip().\n",
    "s2=s1.Irstrip()\n",
    "AttributeError: 'str' object has no attribute 'Irstrip'"
   ]
  },
  {
   "cell_type": "code",
   "execution_count": null,
   "id": "5f2147b8",
   "metadata": {},
   "outputs": [],
   "source": [
    "Q27. \n",
    "You are developing a python application for your company.\n",
    "A list named employees contains 600 employee names, the last 3 being company\n",
    "management. You need to slice employees to display all employees excluding\n",
    "management. Which two code segments we should use?\n",
    "\n",
    "employees[1:-3]\n",
    "\n",
    "employees[:-3] # Currect\n",
    "\n",
    "employees[0:-2]\n",
    "\n",
    "employees[1:-2]\n",
    "\n",
    "employees[0:-3]  # Currect\n",
    "\n",
    "Explanation\n",
    "\n",
    "list[begin:end] returns list of elements from begin index to end-1 index default value for begin is: 0"
   ]
  },
  {
   "cell_type": "code",
   "execution_count": null,
   "id": "0ce17605",
   "metadata": {},
   "outputs": [],
   "source": [
    "Q28.\n",
    "Consider the list:\n",
    "list_1=['Apple','Banana','Carrot','Mango']\n",
    "Which of the following are valid ways of accessing 'Mango':"
   ]
  },
  {
   "cell_type": "code",
   "execution_count": 58,
   "id": "e4022f3c",
   "metadata": {},
   "outputs": [],
   "source": [
    "list_1=['Apple','Banana','Carrot','Mango']"
   ]
  },
  {
   "cell_type": "code",
   "execution_count": 59,
   "id": "39bc2321",
   "metadata": {},
   "outputs": [
    {
     "data": {
      "text/plain": [
       "'Mango'"
      ]
     },
     "execution_count": 59,
     "metadata": {},
     "output_type": "execute_result"
    }
   ],
   "source": [
    "list_1[3]"
   ]
  },
  {
   "cell_type": "code",
   "execution_count": 60,
   "id": "235b0c16",
   "metadata": {},
   "outputs": [
    {
     "data": {
      "text/plain": [
       "'Mango'"
      ]
     },
     "execution_count": 60,
     "metadata": {},
     "output_type": "execute_result"
    }
   ],
   "source": [
    "list_1[-1]"
   ]
  },
  {
   "cell_type": "code",
   "execution_count": null,
   "id": "18998636",
   "metadata": {},
   "outputs": [],
   "source": [
    "Explanation\n",
    "\n",
    "Python supports both positive and negative index.\n",
    "Positive index is from left to right and range is: 0 to length-1. \n",
    "Negative index is from right to left and range is: -1 to -length.\n",
    "In the above example we can access 'Mango' by using list[3] or list[-1]"
   ]
  },
  {
   "cell_type": "code",
   "execution_count": null,
   "id": "eb28171c",
   "metadata": {},
   "outputs": [],
   "source": [
    "Q29.\n",
    "Which of the following code snippet will produce the output:\n",
    "Boy\n",
    "Cat\n",
    "Dog"
   ]
  },
  {
   "cell_type": "code",
   "execution_count": 64,
   "id": "c8f0f8f2",
   "metadata": {},
   "outputs": [
    {
     "name": "stdout",
     "output_type": "stream",
     "text": [
      "Boy\n",
      "Cat\n",
      "Dog\n"
     ]
    }
   ],
   "source": [
    "l=['Apple','Boy','Cat','Dog']\n",
    "for i in l:\n",
    "    if len(i)==3:\n",
    "        print(i)"
   ]
  },
  {
   "cell_type": "code",
   "execution_count": 66,
   "id": "cfdbb0f1",
   "metadata": {},
   "outputs": [
    {
     "name": "stdout",
     "output_type": "stream",
     "text": [
      "Boy\n",
      "Cat\n",
      "Dog\n"
     ]
    }
   ],
   "source": [
    "l=['Apple','Boy','Cat','Dog']\n",
    "l1=l[1:]\n",
    "for i in l1:\n",
    "    print(i)\n"
   ]
  },
  {
   "cell_type": "code",
   "execution_count": null,
   "id": "b8f2ef8e",
   "metadata": {},
   "outputs": [],
   "source": [
    "Q30.\n",
    "Consider the code\n",
    "a=15\n",
    "b=5\n",
    "print(a/b)\n",
    "What is the result?"
   ]
  },
  {
   "cell_type": "code",
   "execution_count": 67,
   "id": "b8bc1402",
   "metadata": {},
   "outputs": [
    {
     "name": "stdout",
     "output_type": "stream",
     "text": [
      "3.0\n"
     ]
    }
   ],
   "source": [
    "a=15\n",
    "b=5\n",
    "print(a/b)  # It give result in float"
   ]
  },
  {
   "cell_type": "code",
   "execution_count": null,
   "id": "a861dde3",
   "metadata": {},
   "outputs": [],
   "source": [
    "Explanation\n",
    "'/' always meant for floating point arithmetic"
   ]
  },
  {
   "cell_type": "code",
   "execution_count": null,
   "id": "838d8e31",
   "metadata": {},
   "outputs": [],
   "source": [
    "Q31.\n",
    "You are developing a python application for your company.\n",
    "A list named employees contains 500 employee names.\n",
    "In which cases we will get IndexError while accessing employee names?\n",
    "\n",
    "None of the above\n",
    "employees[500]\n",
    "employees[0]\n",
    "employees[-1]\n",
    "\n",
    "Explanation\n",
    "\n",
    "If we are trying to access list elements with out of range index, then we will get IndexError. \n",
    "In the above example, list contains 500 names and hence valid positive index range\n",
    "is 0 to 499 and negative index range is -1 to -500.\n",
    "employees[500]->IndexError"
   ]
  },
  {
   "cell_type": "code",
   "execution_count": null,
   "id": "4d5bd0a9",
   "metadata": {},
   "outputs": [],
   "source": [
    "Q32.\n",
    "a=1\n",
    "b = 2\n",
    "c = 4\n",
    "d = 6\n",
    "Which of the following expression results -4?"
   ]
  },
  {
   "cell_type": "code",
   "execution_count": 1,
   "id": "dfe816f1",
   "metadata": {},
   "outputs": [],
   "source": [
    "a = 1\n",
    "b = 2\n",
    "c = 4\n",
    "d = 6"
   ]
  },
  {
   "cell_type": "code",
   "execution_count": 2,
   "id": "360b9105",
   "metadata": {},
   "outputs": [
    {
     "data": {
      "text/plain": [
       "-4"
      ]
     },
     "execution_count": 2,
     "metadata": {},
     "output_type": "execute_result"
    }
   ],
   "source": [
    "(a+b)//d-c"
   ]
  },
  {
   "cell_type": "code",
   "execution_count": null,
   "id": "fefda797",
   "metadata": {},
   "outputs": [],
   "source": [
    "Explanation\n",
    "\n",
    "(a + b) //c % d...>0\n",
    "\n",
    "(b+c)// a % d ...>0\n",
    "\n",
    "(a + b) /c * d...>0\n",
    "\n",
    "(a+b)// d - c - 4"
   ]
  },
  {
   "cell_type": "code",
   "execution_count": null,
   "id": "b9dd971b",
   "metadata": {},
   "outputs": [],
   "source": [
    "Q33.\n",
    "Consider the code:\n",
    "s='Python is easy'\n",
    "s1=s[-7:]\n",
    "s2=s[-4:]\n",
    "print(s1+52)\n",
    "What is the result?"
   ]
  },
  {
   "cell_type": "code",
   "execution_count": 3,
   "id": "1d46b8be",
   "metadata": {},
   "outputs": [
    {
     "name": "stdout",
     "output_type": "stream",
     "text": [
      "is easyeasy\n"
     ]
    }
   ],
   "source": [
    "s='Python is easy'\n",
    "s1=s[-7:]\n",
    "s2=s[-4:]\n",
    "print(s1+s2)"
   ]
  },
  {
   "cell_type": "code",
   "execution_count": null,
   "id": "3de69f3c",
   "metadata": {},
   "outputs": [],
   "source": [
    "Q34.\n",
    " Which of the following is valid python operator precedence order?\n",
    "    \n",
    "Parenthesis\n",
    "Exponents\n",
    "Unary Positive,Negative and Not\n",
    "Multiplication and Division\n",
    "Addition and Subtraction And"
   ]
  },
  {
   "cell_type": "code",
   "execution_count": null,
   "id": "6904f8bf",
   "metadata": {},
   "outputs": [],
   "source": [
    "Q35.\n",
    "You are writing a python program that evaluates an arithmetic expression.\n",
    "The expression is described as b is equals a multiplied by negative one,then raised to the second power,\n",
    "where a is the value which will be input and b is result.\n",
    "a-eval (input('Enter a number for the expression:'))\n",
    "Which of the following is valid expression for the given requirement?\n",
    "\n",
    "b=(-a)**2\n",
    "(Correct)\n",
    "\n",
    "Explanation\n",
    "\n",
    "b=(-a)**2\n",
    "b is equals a multiplied by negative one,then raised to the second power"
   ]
  },
  {
   "cell_type": "code",
   "execution_count": null,
   "id": "48791aff",
   "metadata": {},
   "outputs": [],
   "source": [
    "Q36.\n",
    "Consider the following expression\n",
    "result=8//6%5+2**3-2\n",
    "print(result)\n",
    "What is the result?"
   ]
  },
  {
   "cell_type": "code",
   "execution_count": 4,
   "id": "b0f609de",
   "metadata": {},
   "outputs": [
    {
     "name": "stdout",
     "output_type": "stream",
     "text": [
      "7\n"
     ]
    }
   ],
   "source": [
    "result=8//6%5+2**3-2\n",
    "print(result)"
   ]
  },
  {
   "cell_type": "code",
   "execution_count": null,
   "id": "22c93916",
   "metadata": {},
   "outputs": [],
   "source": [
    "Explanation\n",
    "\n",
    "2**3=8\n",
    "8//6=1\n",
    "result=1%5+8-2=1+8-2-9-2=7"
   ]
  },
  {
   "cell_type": "code",
   "execution_count": null,
   "id": "2b7f62d1",
   "metadata": {},
   "outputs": [],
   "source": [
    "Q37.\n",
    "You have the following code:\n",
    "a = 3\n",
    "b = 5\n",
    "a +=2 ** 3\n",
    "a -=b//2//3\n",
    "print(a)\n",
    "What is the result?"
   ]
  },
  {
   "cell_type": "code",
   "execution_count": 6,
   "id": "f64aae7b",
   "metadata": {},
   "outputs": [
    {
     "name": "stdout",
     "output_type": "stream",
     "text": [
      "11\n"
     ]
    }
   ],
   "source": [
    "a = 3\n",
    "b = 5\n",
    "a +=2 ** 3\n",
    "a -=b//2//3\n",
    "print(a)"
   ]
  },
  {
   "cell_type": "code",
   "execution_count": null,
   "id": "1b57b303",
   "metadata": {},
   "outputs": [],
   "source": [
    "Explanation\n",
    "\n",
    "a+=2**3\n",
    "a=(a)+(2**3)=a+8=3+8=11\n",
    "a-=b//2//3\n",
    "a=(a-(b//2//3)=(a)-(5//2//3)=a-(2//3)=a-0=11"
   ]
  },
  {
   "cell_type": "code",
   "execution_count": null,
   "id": "f61af3f0",
   "metadata": {},
   "outputs": [],
   "source": [
    "Q38.\n",
    "Consider the following variable declarations:\n",
    "a= bool([])\n",
    "b= bool(())\n",
    "C= bool (range(0))\n",
    "d= bool({})\n",
    "e= bool(set())\n",
    "Which of the above variables represent True?"
   ]
  },
  {
   "cell_type": "code",
   "execution_count": 17,
   "id": "8410ee8d",
   "metadata": {},
   "outputs": [],
   "source": [
    "a= bool([])\n",
    "b= bool(())\n",
    "c= bool(range(0))\n",
    "d= bool({})\n",
    "e= bool(set())"
   ]
  },
  {
   "cell_type": "code",
   "execution_count": 18,
   "id": "fca860c6",
   "metadata": {},
   "outputs": [
    {
     "data": {
      "text/plain": [
       "False"
      ]
     },
     "execution_count": 18,
     "metadata": {},
     "output_type": "execute_result"
    }
   ],
   "source": [
    "a"
   ]
  },
  {
   "cell_type": "code",
   "execution_count": 19,
   "id": "13eeed14",
   "metadata": {},
   "outputs": [
    {
     "data": {
      "text/plain": [
       "False"
      ]
     },
     "execution_count": 19,
     "metadata": {},
     "output_type": "execute_result"
    }
   ],
   "source": [
    "b"
   ]
  },
  {
   "cell_type": "code",
   "execution_count": 20,
   "id": "b5993075",
   "metadata": {},
   "outputs": [
    {
     "data": {
      "text/plain": [
       "False"
      ]
     },
     "execution_count": 20,
     "metadata": {},
     "output_type": "execute_result"
    }
   ],
   "source": [
    "c"
   ]
  },
  {
   "cell_type": "code",
   "execution_count": 21,
   "id": "b320b0ca",
   "metadata": {},
   "outputs": [
    {
     "data": {
      "text/plain": [
       "False"
      ]
     },
     "execution_count": 21,
     "metadata": {},
     "output_type": "execute_result"
    }
   ],
   "source": [
    "d"
   ]
  },
  {
   "cell_type": "code",
   "execution_count": 22,
   "id": "b86bdfa5",
   "metadata": {},
   "outputs": [
    {
     "data": {
      "text/plain": [
       "False"
      ]
     },
     "execution_count": 22,
     "metadata": {},
     "output_type": "execute_result"
    }
   ],
   "source": [
    "e"
   ]
  },
  {
   "cell_type": "code",
   "execution_count": null,
   "id": "484143b1",
   "metadata": {},
   "outputs": [],
   "source": [
    "Explanation\n",
    "\n",
    "For Empty String, Empty List, Empty tuple, Empty set,Empty dict and range(0) arguments bool() function returns False."
   ]
  },
  {
   "cell_type": "code",
   "execution_count": null,
   "id": "e4880d56",
   "metadata": {},
   "outputs": [],
   "source": [
    "Q39.\n",
    "Consider the python code\n",
    "numbers=[10,20,30,40]\n",
    "x=0\n",
    "In which of the following cases 10 will be printed to the console?"
   ]
  },
  {
   "cell_type": "code",
   "execution_count": 28,
   "id": "6166c85f",
   "metadata": {},
   "outputs": [],
   "source": [
    "numbers=[10,20,30,40]\n",
    "x=0"
   ]
  },
  {
   "cell_type": "code",
   "execution_count": 29,
   "id": "1d73c5bf",
   "metadata": {},
   "outputs": [
    {
     "name": "stdout",
     "output_type": "stream",
     "text": [
      "20\n"
     ]
    }
   ],
   "source": [
    "for i in(30,40,50): \n",
    "    if i in numbers:\n",
    "        x=x+10\n",
    "print(x)"
   ]
  },
  {
   "cell_type": "code",
   "execution_count": 32,
   "id": "1af89f5a",
   "metadata": {},
   "outputs": [],
   "source": [
    "numbers=[10,20,30,40]\n",
    "x=0"
   ]
  },
  {
   "cell_type": "code",
   "execution_count": 33,
   "id": "72d3e6b5",
   "metadata": {},
   "outputs": [
    {
     "name": "stdout",
     "output_type": "stream",
     "text": [
      "5\n"
     ]
    }
   ],
   "source": [
    "for i in(30,40,50): \n",
    "    if i not in numbers:\n",
    "        x=x+5\n",
    "print(x)"
   ]
  },
  {
   "cell_type": "code",
   "execution_count": 35,
   "id": "023c529f",
   "metadata": {},
   "outputs": [],
   "source": [
    "numbers=[10,20,30,40]\n",
    "x=0"
   ]
  },
  {
   "cell_type": "code",
   "execution_count": 36,
   "id": "fd4e5dfe",
   "metadata": {},
   "outputs": [
    {
     "name": "stdout",
     "output_type": "stream",
     "text": [
      "10\n"
     ]
    }
   ],
   "source": [
    "for i in(30,40,50): \n",
    "    if i in numbers:\n",
    "        x=x+5\n",
    "print(x)"
   ]
  },
  {
   "cell_type": "code",
   "execution_count": 37,
   "id": "a60e5a37",
   "metadata": {},
   "outputs": [],
   "source": [
    "numbers=[10,20,30,40]\n",
    "x=0"
   ]
  },
  {
   "cell_type": "code",
   "execution_count": 38,
   "id": "9eb13a76",
   "metadata": {},
   "outputs": [
    {
     "name": "stdout",
     "output_type": "stream",
     "text": [
      "10\n"
     ]
    }
   ],
   "source": [
    "for i in(30,40,50): \n",
    "    if i not in numbers:\n",
    "        x=x+10\n",
    "print(x)"
   ]
  },
  {
   "cell_type": "code",
   "execution_count": null,
   "id": "144ff7c8",
   "metadata": {},
   "outputs": [],
   "source": [
    "Q40.\n",
    "Consider the following lists:\n",
    "n1=[10,20,30,40,50]\n",
    "n2=[10,20,30,40,50]\n",
    "print(n1 is n2)\n",
    "print (n1 == n2)\n",
    "n1=n2\n",
    "print (n1 is n2)\n",
    "print(n1 == n2)\n",
    "What is the result?"
   ]
  },
  {
   "cell_type": "code",
   "execution_count": 29,
   "id": "3e91f14c",
   "metadata": {},
   "outputs": [
    {
     "name": "stdout",
     "output_type": "stream",
     "text": [
      "False\n",
      "True\n",
      "True\n",
      "True\n"
     ]
    }
   ],
   "source": [
    "n1=[10,20,30,40,50]\n",
    "n2=[10,20,30,40,50]\n",
    "print(n1 is n2)\n",
    "print (n1 == n2)\n",
    "n1=n2\n",
    "print (n1 is n2)\n",
    "print(n1 == n2)"
   ]
  },
  {
   "cell_type": "code",
   "execution_count": null,
   "id": "c84a0563",
   "metadata": {},
   "outputs": [],
   "source": []
  },
  {
   "cell_type": "code",
   "execution_count": null,
   "id": "b38bb11e",
   "metadata": {},
   "outputs": [],
   "source": []
  }
 ],
 "metadata": {
  "kernelspec": {
   "display_name": "Python 3 (ipykernel)",
   "language": "python",
   "name": "python3"
  },
  "language_info": {
   "codemirror_mode": {
    "name": "ipython",
    "version": 3
   },
   "file_extension": ".py",
   "mimetype": "text/x-python",
   "name": "python",
   "nbconvert_exporter": "python",
   "pygments_lexer": "ipython3",
   "version": "3.9.12"
  }
 },
 "nbformat": 4,
 "nbformat_minor": 5
}
